{
 "cells": [
  {
   "cell_type": "markdown",
   "id": "c7695024",
   "metadata": {},
   "source": [
    "# Problema de Josephus\n",
    "\n",
    "Para resolver el problema de Josephus, se puede seguir la estrategia propuesta por el historiador judío Flavius Josephus: sentar a los soldados en un círculo y matar al soldado a la izquierda en cada ronda hasta que quede solo uno vivo. ¿En qué posición debería sentarse Josephus para sobrevivir?\n",
    "\n",
    "Para resolver el problema, se pueden utilizar diferentes enfoques, como la recursión, las fórmulas matemáticas y los algoritmos de simulación. Una posible estrategia para resolver el problema de forma general es utilizar la fórmula:\n",
    "\n",
    "$f(n, m) = (f(n - 1, m) + m) % n$\n",
    "\n",
    "donde n es el número de soldados y m es el número de saltos que se deben dar antes de matar a un soldado. La función f(n, m) devuelve la posición del soldado que sobrevive en una ronda de n soldados después de saltar m soldados. Para encontrar la posición ganadora en una ronda de n soldados, se puede llamar a la función f(n, m) con m = 1."
   ]
  },
  {
   "cell_type": "code",
   "execution_count": null,
   "id": "2a88e05c",
   "metadata": {},
   "outputs": [],
   "source": [
    "def josephus(n):\n",
    "    soldiers = list(range(1, n+1))\n",
    "    i = 0\n",
    "    while len(soldiers) > 1:\n",
    "        i = (i + 1) % len(soldiers)\n",
    "        soldiers.pop(i)\n",
    "    return soldiers[0]\n",
    "\n",
    "soldier_who_lived = josephus(41)\n",
    "print(\"El soldado que sobrevive es:\", soldier_who_lived)"
   ]
  }
 ],
 "metadata": {
  "kernelspec": {
   "display_name": "Python 3 (ipykernel)",
   "language": "python",
   "name": "python3"
  },
  "language_info": {
   "codemirror_mode": {
    "name": "ipython",
    "version": 3
   },
   "file_extension": ".py",
   "mimetype": "text/x-python",
   "name": "python",
   "nbconvert_exporter": "python",
   "pygments_lexer": "ipython3",
   "version": "3.10.10"
  }
 },
 "nbformat": 4,
 "nbformat_minor": 5
}
